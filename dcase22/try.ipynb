{
 "cells": [
  {
   "cell_type": "code",
   "execution_count": 3,
   "metadata": {},
   "outputs": [
    {
     "data": {
      "text/plain": [
       "[1, 2, 3, 4, 7]"
      ]
     },
     "execution_count": 3,
     "metadata": {},
     "output_type": "execute_result"
    }
   ],
   "source": [
    "import numpy as np\n",
    "all_attri=np.array([[1,2,3],[2,5,6],[3,8,9],[1,2,3],[4,5,6],[7,8,9]])\n",
    "np.unique(all_attri[:, 0]).tolist()"
   ]
  },
  {
   "cell_type": "code",
   "execution_count": 3,
   "metadata": {},
   "outputs": [
    {
     "ename": "ModuleNotFoundError",
     "evalue": "No module named 'torchaudio'",
     "output_type": "error",
     "traceback": [
      "\u001b[1;31m---------------------------------------------------------------------------\u001b[0m",
      "\u001b[1;31mModuleNotFoundError\u001b[0m                       Traceback (most recent call last)",
      "\u001b[1;32me:\\05_DLmodel\\AEGAN-AD-1\\dcase22\\try.ipynb 单元格 2\u001b[0m line \u001b[0;36m1\n\u001b[1;32m----> <a href='vscode-notebook-cell:/e%3A/05_DLmodel/AEGAN-AD-1/dcase22/try.ipynb#W1sZmlsZQ%3D%3D?line=0'>1</a>\u001b[0m \u001b[39mimport\u001b[39;00m \u001b[39mtorchaudio\u001b[39;00m\u001b[39m.\u001b[39;00m\u001b[39mcompliance\u001b[39;00m\u001b[39m.\u001b[39;00m\u001b[39mkaldi\u001b[39;00m \u001b[39mas\u001b[39;00m \u001b[39mta_kaldi\u001b[39;00m\n\u001b[0;32m      <a href='vscode-notebook-cell:/e%3A/05_DLmodel/AEGAN-AD-1/dcase22/try.ipynb#W1sZmlsZQ%3D%3D?line=1'>2</a>\u001b[0m \u001b[39mimport\u001b[39;00m \u001b[39mtorch\u001b[39;00m\n",
      "\u001b[1;31mModuleNotFoundError\u001b[0m: No module named 'torchaudio'"
     ]
    }
   ],
   "source": [
    "import torchaudio.compliance.kaldi as ta_kaldi\n",
    "import torch\n",
    "npy_path_padded = r\"D:\\Shilong\\murmur\\01_dataset\\04_newDataset\\npyFile_padded\\normalized\\list_npy_files\"\n",
    "# 读取npy文件\n",
    "absent_train_features = np.load(npy_path_padded + r\"\\absent_train_features_norm.npy\", allow_pickle=True\n",
    "    )\n",
    "absent_test_features = np.load(\n",
    "    npy_path_padded + r\"\\absent_test_features_norm.npy\", allow_pickle=True\n",
    ")"
   ]
  },
  {
   "cell_type": "code",
   "execution_count": null,
   "metadata": {},
   "outputs": [],
   "source": []
  }
 ],
 "metadata": {
  "kernelspec": {
   "display_name": "Python 3",
   "language": "python",
   "name": "python3"
  },
  "language_info": {
   "codemirror_mode": {
    "name": "ipython",
    "version": 3
   },
   "file_extension": ".py",
   "mimetype": "text/x-python",
   "name": "python",
   "nbconvert_exporter": "python",
   "pygments_lexer": "ipython3",
   "version": "3.9.10"
  }
 },
 "nbformat": 4,
 "nbformat_minor": 2
}
