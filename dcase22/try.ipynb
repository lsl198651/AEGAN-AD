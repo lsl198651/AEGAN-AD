{
 "cells": [
  {
   "cell_type": "code",
   "execution_count": 3,
   "metadata": {},
   "outputs": [
    {
     "data": {
      "text/plain": [
       "[1, 2, 3, 4, 7]"
      ]
     },
     "execution_count": 3,
     "metadata": {},
     "output_type": "execute_result"
    }
   ],
   "source": [
    "import numpy as np\n",
    "all_attri=np.array([[1,2,3],[2,5,6],[3,8,9],[1,2,3],[4,5,6],[7,8,9]])\n",
    "np.unique(all_attri[:, 0]).tolist()"
   ]
  },
  {
   "cell_type": "code",
   "execution_count": 2,
   "metadata": {},
   "outputs": [
    {
     "name": "stdout",
     "output_type": "stream",
     "text": [
      "tensor(-10.9006)\n",
      "tensor(5.2054)\n",
      "(110110, 36, 128)\n",
      "tensor([[ -3.2381,  -6.3605,  -2.9178,  ..., -14.5457, -14.5557, -14.5648],\n",
      "        [ -2.2991,  -5.3028,  -1.8597,  ..., -13.4517, -13.4683, -13.4817],\n",
      "        [ -2.0222,  -5.0464,  -1.6030,  ..., -12.9493, -12.9681, -12.9828],\n",
      "        ...,\n",
      "        [-13.4047, -14.2672, -13.3945,  ..., -15.4600, -15.4615, -15.4633],\n",
      "        [-13.9043, -14.5638, -13.8612,  ..., -15.6020, -15.6033, -15.6043],\n",
      "        [-13.9447, -14.6189, -13.9315,  ..., -15.5744, -15.5761, -15.5781]])\n",
      "tensor([[2.3992, 2.5406, 2.5434,  ..., 2.6877, 2.6815, 2.6778],\n",
      "        [2.2133, 2.3499, 2.3511,  ..., 3.1860, 3.1811, 3.1809],\n",
      "        [1.9475, 2.0472, 2.0475,  ..., 3.1637, 3.1632, 3.1679],\n",
      "        ...,\n",
      "        [4.4693, 3.0638, 4.4987,  ..., 1.6390, 1.6376, 1.6364],\n",
      "        [4.1297, 2.8914, 4.2236,  ..., 1.3783, 1.3759, 1.3766],\n",
      "        [4.0967, 2.8106, 4.1335,  ..., 1.4439, 1.4411, 1.4388]])\n"
     ]
    }
   ],
   "source": [
    "import torchaudio.compliance.kaldi as ta_kaldi\n",
    "import torch\n",
    "import numpy as np\n",
    "\n",
    "npy_path_padded = r\"D:\\Shilong\\murmur\\01_dataset\\04_newDataset\\npyFile_padded\\normalized\\list_npy_files\"\n",
    "# 读取npy文件\n",
    "absent_train_features = np.load(npy_path_padded + r\"\\absent_train_features_norm.npy\", allow_pickle=True)\n",
    "absent_test_features = np.load(npy_path_padded + r\"\\absent_test_features_norm.npy\", allow_pickle=True)\n",
    "absent_feature = np.vstack((absent_train_features, absent_test_features))\n",
    "fbanks = []\n",
    "for i, features in enumerate(absent_feature):\n",
    "    fbank = ta_kaldi.fbank(torch.from_numpy(features).unsqueeze(0), num_mel_bins=128, sample_frequency=16000, frame_length=25, frame_shift=10)\n",
    "    fbanks.append(fbank)\n",
    "fbank = torch.stack(fbanks, dim=0)\n",
    "# 对fbank进行标准化\n",
    "fbank = fbank.squeeze(1)\n",
    "fbank_mean = fbank.mean(dim=0)\n",
    "fbank_std = fbank.std(dim=0)\n",
    "fbank = (fbank - fbank_mean) / fbank_std\n",
    "fbank = fbank.numpy()\n",
    "# 保存fbank\n",
    "print(fbank.shape)\n",
    "print(fbank_mean)\n",
    "print(fbank_std)\n"
   ]
  },
  {
   "cell_type": "code",
   "execution_count": null,
   "metadata": {},
   "outputs": [],
   "source": []
  }
 ],
 "metadata": {
  "kernelspec": {
   "display_name": "Python 3",
   "language": "python",
   "name": "python3"
  },
  "language_info": {
   "codemirror_mode": {
    "name": "ipython",
    "version": 3
   },
   "file_extension": ".py",
   "mimetype": "text/x-python",
   "name": "python",
   "nbconvert_exporter": "python",
   "pygments_lexer": "ipython3",
   "version": "3.9.16"
  }
 },
 "nbformat": 4,
 "nbformat_minor": 2
}
